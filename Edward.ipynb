{
 "cells": [
  {
   "cell_type": "markdown",
   "id": "91820d31-6f98-4d14-81ea-dd3f97cb739c",
   "metadata": {},
   "source": [
    "<center>\n",
    "<span style=\"font-size:20px;\">Dit is een foto van mij tijdens de Cambodja Ultra Marathon Race in 2012.</span>\n",
    "</center>  \n",
    "\n",
    "<center>\n",
    "<span style=\"font-size:30px; color:blue;\">Dit is een foto van mij tijdens de Cambodja Ultra Marathon Race in 2012.</span>\n",
    "</center>\n",
    "\n",
    "\n"
   ]
  },
  {
   "cell_type": "markdown",
   "id": "669164cd-53dd-49db-af8c-e474bbb524bf",
   "metadata": {},
   "source": [
    "<center>\n",
    "<img src=\"Ed Cambodia.jpg\" style=\"width:300px;height:300px\" align=\"center\"/>\n",
    "</center>"
   ]
  },
  {
   "cell_type": "code",
   "execution_count": null,
   "id": "3d3cb1c8-b50d-4683-be2c-7c7f58dba354",
   "metadata": {},
   "outputs": [],
   "source": []
  }
 ],
 "metadata": {
  "kernelspec": {
   "display_name": "Python 3 (ipykernel)",
   "language": "python",
   "name": "python3"
  },
  "language_info": {
   "codemirror_mode": {
    "name": "ipython",
    "version": 3
   },
   "file_extension": ".py",
   "mimetype": "text/x-python",
   "name": "python",
   "nbconvert_exporter": "python",
   "pygments_lexer": "ipython3",
   "version": "3.12.2"
  }
 },
 "nbformat": 4,
 "nbformat_minor": 5
}
